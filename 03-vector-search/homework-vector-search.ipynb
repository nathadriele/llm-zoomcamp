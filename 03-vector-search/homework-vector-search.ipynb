{
 "cells": [
  {
   "cell_type": "code",
   "execution_count": null,
   "id": "fca2bd55-9744-45e5-b8ac-efe967607b21",
   "metadata": {},
   "outputs": [],
   "source": [
    "from sentence_transformers import SentenceTransformer\n",
    "embedding_model = SentenceTransformer(\"multi-qa-distilbert-cos-v1\")"
   ]
  },
  {
   "cell_type": "code",
   "execution_count": null,
   "id": "6cb99ebe-6002-41b3-9334-cfb773a985df",
   "metadata": {},
   "outputs": [],
   "source": [
    "user_question = \"I just discovered the course. Can I still join it?\"\n",
    "embedding_vector = embedding_model.encode(user_question)\n",
    "embedding_vector[0]"
   ]
  },
  {
   "cell_type": "code",
   "execution_count": null,
   "id": "b3821f70-bcaa-4565-b24b-175130431c9c",
   "metadata": {},
   "outputs": [],
   "source": [
    "import requests \n",
    "\n",
    "base_url = 'https://github.com/DataTalksClub/llm-zoomcamp/blob/main'\n",
    "relative_url = '03-vector-search/eval/documents-with-ids.json'\n",
    "docs_url = f'{base_url}/{relative_url}?raw=1'\n",
    "docs_response = requests.get(docs_url)\n",
    "documents = docs_response.json()"
   ]
  },
  {
   "cell_type": "code",
   "execution_count": null,
   "id": "be19fe9e-2104-4c30-8b43-ba3356a892b2",
   "metadata": {},
   "outputs": [],
   "source": [
    "documents[1]"
   ]
  },
  {
   "cell_type": "code",
   "execution_count": null,
   "id": "9d9155fb-d8c7-4ebf-a637-5ab0077507dc",
   "metadata": {},
   "outputs": [],
   "source": [
    "len(documents)"
   ]
  },
  {
   "cell_type": "code",
   "execution_count": null,
   "id": "17294bdd-58b8-4762-b3d0-ea025f011340",
   "metadata": {},
   "outputs": [],
   "source": [
    "filtered_documents = []\n",
    "course_name = 'machine-learning-zoomcamp'\n",
    "\n",
    "for doc in documents:\n",
    "    if doc['course'] == course_name:\n",
    "        filtered_documents.append(doc)"
   ]
  },
  {
   "cell_type": "code",
   "execution_count": null,
   "id": "db1533eb-c7e1-4991-a51d-584fcb403ab4",
   "metadata": {},
   "outputs": [],
   "source": [
    "len(filtered_documents)"
   ]
  },
  {
   "cell_type": "code",
   "execution_count": null,
   "id": "662a0636-21b7-4b2c-8163-17f7f76efec5",
   "metadata": {},
   "outputs": [],
   "source": [
    "filtered_documents[1]"
   ]
  },
  {
   "cell_type": "code",
   "execution_count": null,
   "id": "f3950d0c-a77b-4d3d-a4b0-304c630a198a",
   "metadata": {},
   "outputs": [],
   "source": [
    "import numpy as np\n",
    "\n",
    "embeddings = []\n",
    "operations = []\n",
    "for doc in filtered_documents:\n",
    "    qa_text = f\"{doc['question']} {doc['text']}\"\n",
    "    embedding = embedding_model.encode(qa_text)\n",
    "    embeddings.append(embedding)\n",
    "    doc[\"qa_vector\"] = embedding.tolist()\n",
    "    operations.append(doc)\n",
    "\n",
    "X = np.array(embeddings)\n",
    "X.shape"
   ]
  },
  {
   "cell_type": "code",
   "execution_count": null,
   "id": "95b076f9-17c5-4445-98cf-6989c079e60c",
   "metadata": {},
   "outputs": [],
   "source": [
    "dot_product = np.dot(embedding_vector, embedding_vector)\n",
    "dot_product"
   ]
  },
  {
   "cell_type": "code",
   "execution_count": null,
   "id": "9585aa69-f102-4b03-bba1-86ebeeadc9b9",
   "metadata": {},
   "outputs": [],
   "source": [
    "scores = X.dot(embedding_vector)\n",
    "scores.max()"
   ]
  },
  {
   "cell_type": "code",
   "execution_count": null,
   "id": "fe50d0f8-7523-4b68-9e50-4d003f9a5481",
   "metadata": {},
   "outputs": [],
   "source": [
    "embedding_vector = np.array(embedding_vector, dtype=float)"
   ]
  },
  {
   "cell_type": "code",
   "execution_count": null,
   "id": "5d036640-0715-446a-a3aa-22261689065b",
   "metadata": {},
   "outputs": [],
   "source": [
    "class VectorSearchEngine():\n",
    "    def __init__(self, documents, embeddings):\n",
    "        self.documents = documents\n",
    "        self.embeddings = embeddings\n",
    "\n",
    "    def search(self, v_query, num_results=10):\n",
    "        scores = self.embeddings.dot(v_query)\n",
    "        idx = np.argsort(-scores)[:num_results]\n",
    "        return [self.documents[i] for i in idx]\n",
    "search_engine = VectorSearchEngine(documents=filtered_documents, embeddings=X)\n",
    "search_engine.search(embedding_vector, num_results=5)"
   ]
  },
  {
   "cell_type": "code",
   "execution_count": null,
   "id": "e99c2922-d2a5-4b55-8caf-c76b003db288",
   "metadata": {},
   "outputs": [],
   "source": [
    "import pandas as pd\n",
    "\n",
    "base_url = 'https://github.com/DataTalksClub/llm-zoomcamp/blob/main'\n",
    "relative_url = '03-vector-search/eval/ground-truth-data.csv'\n",
    "ground_truth_url = f'{base_url}/{relative_url}?raw=1'\n",
    "\n",
    "df_ground_truth = pd.read_csv(ground_truth_url)\n",
    "df_ground_truth = df_ground_truth[df_ground_truth.course == 'machine-learning-zoomcamp']\n",
    "ground_truth = df_ground_truth.to_dict(orient='records')"
   ]
  },
  {
   "cell_type": "code",
   "execution_count": null,
   "id": "307c5066-5d83-4a4b-b5b7-a8b6bf345de3",
   "metadata": {},
   "outputs": [],
   "source": [
    "def calculate_hitrate(search_engine, ground_truth, num_results):\n",
    "    total_queries = len(ground_truth)\n",
    "    correct_matches = 0\n",
    "\n",
    "    for query in ground_truth:\n",
    "        question = query['question']\n",
    "        document = query['document']\n",
    "        embedding_vector = embedding_model.encode(question)\n",
    "        results = search_engine.search(embedding_vector, num_results=num_results)\n",
    "\n",
    "        for result in results:\n",
    "            if result['id'] == document:\n",
    "                correct_matches += 1\n",
    "                break\n",
    "\n",
    "    hitrate = correct_matches / total_queries\n",
    "    return hitrate\n",
    "\n",
    "hitrate = calculate_hitrate(search_engine, ground_truth, num_results=5)\n",
    "print(hitrate)"
   ]
  },
  {
   "cell_type": "code",
   "execution_count": null,
   "id": "49227d0c-9bb7-4884-8ea4-bec5d5ccb041",
   "metadata": {},
   "outputs": [],
   "source": [
    "len(embedding_model.encode(\"This is a simple sentence\"))"
   ]
  },
  {
   "cell_type": "code",
   "execution_count": null,
   "id": "dfb90073-3cb1-4a52-bfc8-6ba3211d4c0a",
   "metadata": {},
   "outputs": [],
   "source": [
    "from elasticsearch import Elasticsearch\n",
    "es_client = Elasticsearch('http://localhost:9200') \n",
    "\n",
    "es_client.info()"
   ]
  },
  {
   "cell_type": "code",
   "execution_count": null,
   "id": "f4d4e967-4e9a-4780-8448-778ad739a2f0",
   "metadata": {},
   "outputs": [],
   "source": [
    "index_settings = {\n",
    "    \"settings\": {\n",
    "        \"number_of_shards\": 1,\n",
    "        \"number_of_replicas\": 0\n",
    "    },\n",
    "    \"mappings\": {\n",
    "        \"properties\": {\n",
    "            \"text\": {\"type\": \"text\"},\n",
    "            \"section\": {\"type\": \"text\"},\n",
    "            \"question\": {\"type\": \"text\"},\n",
    "            \"course\": {\"type\": \"keyword\"} ,\n",
    "            \"qa_vector\": {\"type\": \"dense_vector\", \"dims\": 768, \"index\": True, \"similarity\": \"cosine\"},\n",
    "        }\n",
    "    }\n",
    "}"
   ]
  },
  {
   "cell_type": "code",
   "execution_count": null,
   "id": "eda30f7d-7edb-47e0-b256-35f2811c5d4c",
   "metadata": {},
   "outputs": [],
   "source": [
    "index_name = \"course-questions\"\n",
    "\n",
    "es_client.indices.delete(index=index_name, ignore_unavailable=True)\n",
    "es_client.indices.create(index=index_name, body=index_settings)"
   ]
  },
  {
   "cell_type": "code",
   "execution_count": null,
   "id": "55125b85-c22f-4a3b-9ccd-fd7f74e236d0",
   "metadata": {},
   "outputs": [],
   "source": [
    "for doc in operations:\n",
    "    try:\n",
    "        es_client.index(index=index_name, body=doc)\n",
    "    except Exception as e:\n",
    "        print(e)"
   ]
  },
  {
   "cell_type": "code",
   "execution_count": null,
   "id": "c4141621-543f-41b5-9e47-7d1ed05c3397",
   "metadata": {},
   "outputs": [],
   "source": [
    "search_term = \"I just discovered the course. Can I still join it?\"\n",
    "vector_search_term = embedding_model.encode(search_term)"
   ]
  },
  {
   "cell_type": "code",
   "execution_count": null,
   "id": "e46ed3cc-df98-46f6-955a-1689cbd729da",
   "metadata": {},
   "outputs": [],
   "source": [
    "body = {\n",
    "    \"knn\": {\n",
    "        \"field\": \"qa_vector\",\n",
    "        \"query_vector\": vector_search_term,\n",
    "        \"k\": 5,\n",
    "        \"num_candidates\": 10000, \n",
    "    },\n",
    "    \"size\": 5,\n",
    "}"
   ]
  },
  {
   "cell_type": "code",
   "execution_count": null,
   "id": "9921191e-8176-4b7b-946e-294c234c3396",
   "metadata": {},
   "outputs": [],
   "source": [
    "res = es_client.search(index=index_name, body=body, _source=[\"text\", \"section\", \"question\", \"course\"])\n",
    "res[\"hits\"][\"hits\"]"
   ]
  },
  {
   "cell_type": "code",
   "execution_count": null,
   "id": "40f751dd-7666-4ee7-9c39-8124ba0c9376",
   "metadata": {},
   "outputs": [],
   "source": [
    "def calculate_hitrate_es(search_engine, ground_truth, embedding_model: SentenceTransformer, num_results):\n",
    "    total_queries = len(ground_truth)\n",
    "    correct_matches = 0\n",
    "\n",
    "    for query in ground_truth:\n",
    "        question = query['question']\n",
    "        document = query['document']\n",
    "        embedding_vector = embedding_model.encode(question)\n",
    "        results = search_engine.search(embedding_vector, num_results=num_results)\n",
    "\n",
    "        for result in results:\n",
    "            if result['id'] == document:\n",
    "                correct_matches += 1\n",
    "                break\n",
    "\n",
    "    hitrate = correct_matches / total_queries\n",
    "    return hitrate\n",
    "\n",
    "hitrate_es = calculate_hitrate_es(search_engine, ground_truth, embedding_model, num_results=5)\n",
    "print(hitrate_es)"
   ]
  }
 ],
 "metadata": {
  "kernelspec": {
   "display_name": "Python 3 (ipykernel)",
   "language": "python",
   "name": "python3"
  },
  "language_info": {
   "codemirror_mode": {
    "name": "ipython",
    "version": 3
   },
   "file_extension": ".py",
   "mimetype": "text/x-python",
   "name": "python",
   "nbconvert_exporter": "python",
   "pygments_lexer": "ipython3",
   "version": "3.10.13"
  }
 },
 "nbformat": 4,
 "nbformat_minor": 5
}
